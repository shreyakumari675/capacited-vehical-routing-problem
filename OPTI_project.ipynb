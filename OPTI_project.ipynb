{
  "nbformat": 4,
  "nbformat_minor": 0,
  "metadata": {
    "colab": {
      "provenance": []
    },
    "kernelspec": {
      "name": "python3",
      "display_name": "Python 3"
    },
    "language_info": {
      "name": "python"
    }
  },
  "cells": [
    {
      "cell_type": "markdown",
      "source": [
        "**CAPACITATED VEHICLE ROUTING PROBLEM CODE**"
      ],
      "metadata": {
        "id": "Db8hgUSJpcLL"
      }
    },
    {
      "cell_type": "code",
      "source": [
        "from google.colab import files\n",
        "from IPython.display import Image\n",
        "uploaded=files.upload()"
      ],
      "metadata": {
        "id": "wCJpNcqapuIP",
        "colab": {
          "base_uri": "https://localhost:8080/",
          "height": 73
        },
        "outputId": "d8e0ee70-a71c-4e3c-8bbc-07f9d259b7ae"
      },
      "execution_count": null,
      "outputs": [
        {
          "output_type": "display_data",
          "data": {
            "text/plain": [
              "<IPython.core.display.HTML object>"
            ],
            "text/html": [
              "\n",
              "     <input type=\"file\" id=\"files-1664eb44-33a9-4318-9cdd-70be2d07a5ca\" name=\"files[]\" multiple disabled\n",
              "        style=\"border:none\" />\n",
              "     <output id=\"result-1664eb44-33a9-4318-9cdd-70be2d07a5ca\">\n",
              "      Upload widget is only available when the cell has been executed in the\n",
              "      current browser session. Please rerun this cell to enable.\n",
              "      </output>\n",
              "      <script>// Copyright 2017 Google LLC\n",
              "//\n",
              "// Licensed under the Apache License, Version 2.0 (the \"License\");\n",
              "// you may not use this file except in compliance with the License.\n",
              "// You may obtain a copy of the License at\n",
              "//\n",
              "//      http://www.apache.org/licenses/LICENSE-2.0\n",
              "//\n",
              "// Unless required by applicable law or agreed to in writing, software\n",
              "// distributed under the License is distributed on an \"AS IS\" BASIS,\n",
              "// WITHOUT WARRANTIES OR CONDITIONS OF ANY KIND, either express or implied.\n",
              "// See the License for the specific language governing permissions and\n",
              "// limitations under the License.\n",
              "\n",
              "/**\n",
              " * @fileoverview Helpers for google.colab Python module.\n",
              " */\n",
              "(function(scope) {\n",
              "function span(text, styleAttributes = {}) {\n",
              "  const element = document.createElement('span');\n",
              "  element.textContent = text;\n",
              "  for (const key of Object.keys(styleAttributes)) {\n",
              "    element.style[key] = styleAttributes[key];\n",
              "  }\n",
              "  return element;\n",
              "}\n",
              "\n",
              "// Max number of bytes which will be uploaded at a time.\n",
              "const MAX_PAYLOAD_SIZE = 100 * 1024;\n",
              "\n",
              "function _uploadFiles(inputId, outputId) {\n",
              "  const steps = uploadFilesStep(inputId, outputId);\n",
              "  const outputElement = document.getElementById(outputId);\n",
              "  // Cache steps on the outputElement to make it available for the next call\n",
              "  // to uploadFilesContinue from Python.\n",
              "  outputElement.steps = steps;\n",
              "\n",
              "  return _uploadFilesContinue(outputId);\n",
              "}\n",
              "\n",
              "// This is roughly an async generator (not supported in the browser yet),\n",
              "// where there are multiple asynchronous steps and the Python side is going\n",
              "// to poll for completion of each step.\n",
              "// This uses a Promise to block the python side on completion of each step,\n",
              "// then passes the result of the previous step as the input to the next step.\n",
              "function _uploadFilesContinue(outputId) {\n",
              "  const outputElement = document.getElementById(outputId);\n",
              "  const steps = outputElement.steps;\n",
              "\n",
              "  const next = steps.next(outputElement.lastPromiseValue);\n",
              "  return Promise.resolve(next.value.promise).then((value) => {\n",
              "    // Cache the last promise value to make it available to the next\n",
              "    // step of the generator.\n",
              "    outputElement.lastPromiseValue = value;\n",
              "    return next.value.response;\n",
              "  });\n",
              "}\n",
              "\n",
              "/**\n",
              " * Generator function which is called between each async step of the upload\n",
              " * process.\n",
              " * @param {string} inputId Element ID of the input file picker element.\n",
              " * @param {string} outputId Element ID of the output display.\n",
              " * @return {!Iterable<!Object>} Iterable of next steps.\n",
              " */\n",
              "function* uploadFilesStep(inputId, outputId) {\n",
              "  const inputElement = document.getElementById(inputId);\n",
              "  inputElement.disabled = false;\n",
              "\n",
              "  const outputElement = document.getElementById(outputId);\n",
              "  outputElement.innerHTML = '';\n",
              "\n",
              "  const pickedPromise = new Promise((resolve) => {\n",
              "    inputElement.addEventListener('change', (e) => {\n",
              "      resolve(e.target.files);\n",
              "    });\n",
              "  });\n",
              "\n",
              "  const cancel = document.createElement('button');\n",
              "  inputElement.parentElement.appendChild(cancel);\n",
              "  cancel.textContent = 'Cancel upload';\n",
              "  const cancelPromise = new Promise((resolve) => {\n",
              "    cancel.onclick = () => {\n",
              "      resolve(null);\n",
              "    };\n",
              "  });\n",
              "\n",
              "  // Wait for the user to pick the files.\n",
              "  const files = yield {\n",
              "    promise: Promise.race([pickedPromise, cancelPromise]),\n",
              "    response: {\n",
              "      action: 'starting',\n",
              "    }\n",
              "  };\n",
              "\n",
              "  cancel.remove();\n",
              "\n",
              "  // Disable the input element since further picks are not allowed.\n",
              "  inputElement.disabled = true;\n",
              "\n",
              "  if (!files) {\n",
              "    return {\n",
              "      response: {\n",
              "        action: 'complete',\n",
              "      }\n",
              "    };\n",
              "  }\n",
              "\n",
              "  for (const file of files) {\n",
              "    const li = document.createElement('li');\n",
              "    li.append(span(file.name, {fontWeight: 'bold'}));\n",
              "    li.append(span(\n",
              "        `(${file.type || 'n/a'}) - ${file.size} bytes, ` +\n",
              "        `last modified: ${\n",
              "            file.lastModifiedDate ? file.lastModifiedDate.toLocaleDateString() :\n",
              "                                    'n/a'} - `));\n",
              "    const percent = span('0% done');\n",
              "    li.appendChild(percent);\n",
              "\n",
              "    outputElement.appendChild(li);\n",
              "\n",
              "    const fileDataPromise = new Promise((resolve) => {\n",
              "      const reader = new FileReader();\n",
              "      reader.onload = (e) => {\n",
              "        resolve(e.target.result);\n",
              "      };\n",
              "      reader.readAsArrayBuffer(file);\n",
              "    });\n",
              "    // Wait for the data to be ready.\n",
              "    let fileData = yield {\n",
              "      promise: fileDataPromise,\n",
              "      response: {\n",
              "        action: 'continue',\n",
              "      }\n",
              "    };\n",
              "\n",
              "    // Use a chunked sending to avoid message size limits. See b/62115660.\n",
              "    let position = 0;\n",
              "    do {\n",
              "      const length = Math.min(fileData.byteLength - position, MAX_PAYLOAD_SIZE);\n",
              "      const chunk = new Uint8Array(fileData, position, length);\n",
              "      position += length;\n",
              "\n",
              "      const base64 = btoa(String.fromCharCode.apply(null, chunk));\n",
              "      yield {\n",
              "        response: {\n",
              "          action: 'append',\n",
              "          file: file.name,\n",
              "          data: base64,\n",
              "        },\n",
              "      };\n",
              "\n",
              "      let percentDone = fileData.byteLength === 0 ?\n",
              "          100 :\n",
              "          Math.round((position / fileData.byteLength) * 100);\n",
              "      percent.textContent = `${percentDone}% done`;\n",
              "\n",
              "    } while (position < fileData.byteLength);\n",
              "  }\n",
              "\n",
              "  // All done.\n",
              "  yield {\n",
              "    response: {\n",
              "      action: 'complete',\n",
              "    }\n",
              "  };\n",
              "}\n",
              "\n",
              "scope.google = scope.google || {};\n",
              "scope.google.colab = scope.google.colab || {};\n",
              "scope.google.colab._files = {\n",
              "  _uploadFiles,\n",
              "  _uploadFilesContinue,\n",
              "};\n",
              "})(self);\n",
              "</script> "
            ]
          },
          "metadata": {}
        },
        {
          "output_type": "stream",
          "name": "stdout",
          "text": [
            "Saving route fig.jpg to route fig.jpg\n"
          ]
        }
      ]
    },
    {
      "cell_type": "code",
      "source": [
        "Image('route fig.jpg',width=800,height=400)"
      ],
      "metadata": {
        "colab": {
          "base_uri": "https://localhost:8080/",
          "height": 417
        },
        "id": "jufLXvWRtQvr",
        "outputId": "23c02eb3-9b2b-45b1-c690-8cf6c8fe51e9"
      },
      "execution_count": null,
      "outputs": [
        {
          "output_type": "execute_result",
          "data": {
            "image/jpeg": "[encoded data removed]",
            "text/plain": [
              "<IPython.core.display.Image object>"
            ]
          },
          "metadata": {
            "image/jpeg": {
              "width": 800,
              "height": 400
            }
          },
          "execution_count": 7
        }
      ]
    },
    {
      "cell_type": "code",
      "source": [
        "uploaded=files.upload()"
      ],
      "metadata": {
        "colab": {
          "base_uri": "https://localhost:8080/",
          "height": 73
        },
        "id": "FaWgmeFQtbFl",
        "outputId": "9f4e22b4-ce79-4e53-ddd3-9e12acfabeb9"
      },
      "execution_count": 45,
      "outputs": [
        {
          "output_type": "display_data",
          "data": {
            "text/plain": [
              "<IPython.core.display.HTML object>"
            ],
            "text/html": [
              "\n",
              "     <input type=\"file\" id=\"files-4aba1a81-2ae4-4c53-b94a-f41222aa27a5\" name=\"files[]\" multiple disabled\n",
              "        style=\"border:none\" />\n",
              "     <output id=\"result-4aba1a81-2ae4-4c53-b94a-f41222aa27a5\">\n",
              "      Upload widget is only available when the cell has been executed in the\n",
              "      current browser session. Please rerun this cell to enable.\n",
              "      </output>\n",
              "      <script>// Copyright 2017 Google LLC\n",
              "//\n",
              "// Licensed under the Apache License, Version 2.0 (the \"License\");\n",
              "// you may not use this file except in compliance with the License.\n",
              "// You may obtain a copy of the License at\n",
              "//\n",
              "//      http://www.apache.org/licenses/LICENSE-2.0\n",
              "//\n",
              "// Unless required by applicable law or agreed to in writing, software\n",
              "// distributed under the License is distributed on an \"AS IS\" BASIS,\n",
              "// WITHOUT WARRANTIES OR CONDITIONS OF ANY KIND, either express or implied.\n",
              "// See the License for the specific language governing permissions and\n",
              "// limitations under the License.\n",
              "\n",
              "/**\n",
              " * @fileoverview Helpers for google.colab Python module.\n",
              " */\n",
              "(function(scope) {\n",
              "function span(text, styleAttributes = {}) {\n",
              "  const element = document.createElement('span');\n",
              "  element.textContent = text;\n",
              "  for (const key of Object.keys(styleAttributes)) {\n",
              "    element.style[key] = styleAttributes[key];\n",
              "  }\n",
              "  return element;\n",
              "}\n",
              "\n",
              "// Max number of bytes which will be uploaded at a time.\n",
              "const MAX_PAYLOAD_SIZE = 100 * 1024;\n",
              "\n",
              "function _uploadFiles(inputId, outputId) {\n",
              "  const steps = uploadFilesStep(inputId, outputId);\n",
              "  const outputElement = document.getElementById(outputId);\n",
              "  // Cache steps on the outputElement to make it available for the next call\n",
              "  // to uploadFilesContinue from Python.\n",
              "  outputElement.steps = steps;\n",
              "\n",
              "  return _uploadFilesContinue(outputId);\n",
              "}\n",
              "\n",
              "// This is roughly an async generator (not supported in the browser yet),\n",
              "// where there are multiple asynchronous steps and the Python side is going\n",
              "// to poll for completion of each step.\n",
              "// This uses a Promise to block the python side on completion of each step,\n",
              "// then passes the result of the previous step as the input to the next step.\n",
              "function _uploadFilesContinue(outputId) {\n",
              "  const outputElement = document.getElementById(outputId);\n",
              "  const steps = outputElement.steps;\n",
              "\n",
              "  const next = steps.next(outputElement.lastPromiseValue);\n",
              "  return Promise.resolve(next.value.promise).then((value) => {\n",
              "    // Cache the last promise value to make it available to the next\n",
              "    // step of the generator.\n",
              "    outputElement.lastPromiseValue = value;\n",
              "    return next.value.response;\n",
              "  });\n",
              "}\n",
              "\n",
              "/**\n",
              " * Generator function which is called between each async step of the upload\n",
              " * process.\n",
              " * @param {string} inputId Element ID of the input file picker element.\n",
              " * @param {string} outputId Element ID of the output display.\n",
              " * @return {!Iterable<!Object>} Iterable of next steps.\n",
              " */\n",
              "function* uploadFilesStep(inputId, outputId) {\n",
              "  const inputElement = document.getElementById(inputId);\n",
              "  inputElement.disabled = false;\n",
              "\n",
              "  const outputElement = document.getElementById(outputId);\n",
              "  outputElement.innerHTML = '';\n",
              "\n",
              "  const pickedPromise = new Promise((resolve) => {\n",
              "    inputElement.addEventListener('change', (e) => {\n",
              "      resolve(e.target.files);\n",
              "    });\n",
              "  });\n",
              "\n",
              "  const cancel = document.createElement('button');\n",
              "  inputElement.parentElement.appendChild(cancel);\n",
              "  cancel.textContent = 'Cancel upload';\n",
              "  const cancelPromise = new Promise((resolve) => {\n",
              "    cancel.onclick = () => {\n",
              "      resolve(null);\n",
              "    };\n",
              "  });\n",
              "\n",
              "  // Wait for the user to pick the files.\n",
              "  const files = yield {\n",
              "    promise: Promise.race([pickedPromise, cancelPromise]),\n",
              "    response: {\n",
              "      action: 'starting',\n",
              "    }\n",
              "  };\n",
              "\n",
              "  cancel.remove();\n",
              "\n",
              "  // Disable the input element since further picks are not allowed.\n",
              "  inputElement.disabled = true;\n",
              "\n",
              "  if (!files) {\n",
              "    return {\n",
              "      response: {\n",
              "        action: 'complete',\n",
              "      }\n",
              "    };\n",
              "  }\n",
              "\n",
              "  for (const file of files) {\n",
              "    const li = document.createElement('li');\n",
              "    li.append(span(file.name, {fontWeight: 'bold'}));\n",
              "    li.append(span(\n",
              "        `(${file.type || 'n/a'}) - ${file.size} bytes, ` +\n",
              "        `last modified: ${\n",
              "            file.lastModifiedDate ? file.lastModifiedDate.toLocaleDateString() :\n",
              "                                    'n/a'} - `));\n",
              "    const percent = span('0% done');\n",
              "    li.appendChild(percent);\n",
              "\n",
              "    outputElement.appendChild(li);\n",
              "\n",
              "    const fileDataPromise = new Promise((resolve) => {\n",
              "      const reader = new FileReader();\n",
              "      reader.onload = (e) => {\n",
              "        resolve(e.target.result);\n",
              "      };\n",
              "      reader.readAsArrayBuffer(file);\n",
              "    });\n",
              "    // Wait for the data to be ready.\n",
              "    let fileData = yield {\n",
              "      promise: fileDataPromise,\n",
              "      response: {\n",
              "        action: 'continue',\n",
              "      }\n",
              "    };\n",
              "\n",
              "    // Use a chunked sending to avoid message size limits. See b/62115660.\n",
              "    let position = 0;\n",
              "    do {\n",
              "      const length = Math.min(fileData.byteLength - position, MAX_PAYLOAD_SIZE);\n",
              "      const chunk = new Uint8Array(fileData, position, length);\n",
              "      position += length;\n",
              "\n",
              "      const base64 = btoa(String.fromCharCode.apply(null, chunk));\n",
              "      yield {\n",
              "        response: {\n",
              "          action: 'append',\n",
              "          file: file.name,\n",
              "          data: base64,\n",
              "        },\n",
              "      };\n",
              "\n",
              "      let percentDone = fileData.byteLength === 0 ?\n",
              "          100 :\n",
              "          Math.round((position / fileData.byteLength) * 100);\n",
              "      percent.textContent = `${percentDone}% done`;\n",
              "\n",
              "    } while (position < fileData.byteLength);\n",
              "  }\n",
              "\n",
              "  // All done.\n",
              "  yield {\n",
              "    response: {\n",
              "      action: 'complete',\n",
              "    }\n",
              "  };\n",
              "}\n",
              "\n",
              "scope.google = scope.google || {};\n",
              "scope.google.colab = scope.google.colab || {};\n",
              "scope.google.colab._files = {\n",
              "  _uploadFiles,\n",
              "  _uploadFilesContinue,\n",
              "};\n",
              "})(self);\n",
              "</script> "
            ]
          },
          "metadata": {}
        },
        {
          "output_type": "stream",
          "name": "stdout",
          "text": [
            "Saving formula.jpg to formula (3).jpg\n"
          ]
        }
      ]
    },
    {
      "cell_type": "code",
      "source": [
        "Image('formula.jpg',width=800,height=400)"
      ],
      "metadata": {
        "colab": {
          "base_uri": "https://localhost:8080/",
          "height": 417
        },
        "id": "Qp-pZ49htbby",
        "outputId": "d665dc55-a6fb-4115-e5e6-95cdad195b96"
      },
      "execution_count": 46,
      "outputs": [
        {
          "output_type": "execute_result",
          "data": {
            "image/jpeg": "[encoded data removed]",
            "text/plain": [
              "<IPython.core.display.Image object>"
            ]
          },
          "metadata": {
            "image/jpeg": {
              "width": 800,
              "height": 400
            }
          },
          "execution_count": 46
        }
      ]
    },
    {
      "cell_type": "code",
      "source": [
        "import numpy as np\n",
        "rnd=np.random\n",
        "rnd.seed(0)"
      ],
      "metadata": {
        "id": "1RAZw19Ltbe8"
      },
      "execution_count": 24,
      "outputs": []
    },
    {
      "cell_type": "code",
      "source": [
        "n=10 # number of clients\n",
        "Q=20 #Q=vehicle capacity\n",
        "N=[i for i in range(1,n+1)]\n",
        "V=[0]+N\n",
        "q={i:rnd.randint(1,10) for i in N}"
      ],
      "metadata": {
        "id": "-intp3NStbhk"
      },
      "execution_count": 23,
      "outputs": []
    },
    {
      "cell_type": "code",
      "source": [
        "N"
      ],
      "metadata": {
        "colab": {
          "base_uri": "https://localhost:8080/"
        },
        "id": "wClEWj_BtbkH",
        "outputId": "b8236e09-c95f-4ed5-bb7d-6630968814af"
      },
      "execution_count": 20,
      "outputs": [
        {
          "output_type": "execute_result",
          "data": {
            "text/plain": [
              "[1, 2, 3, 4, 5, 6, 7, 8, 9, 10]"
            ]
          },
          "metadata": {},
          "execution_count": 20
        }
      ]
    },
    {
      "cell_type": "code",
      "source": [
        "V"
      ],
      "metadata": {
        "id": "ouPCtPi5tbm5",
        "colab": {
          "base_uri": "https://localhost:8080/"
        },
        "outputId": "60ba46e9-2335-4c8f-b445-3938bfbf84a2"
      },
      "execution_count": 21,
      "outputs": [
        {
          "output_type": "execute_result",
          "data": {
            "text/plain": [
              "[0, 1, 2, 3, 4, 5, 6, 7, 8, 9, 10]"
            ]
          },
          "metadata": {},
          "execution_count": 21
        }
      ]
    },
    {
      "cell_type": "code",
      "source": [
        "q # for client 1 have demand 6, client 2 has demand 1, client 3 has demand 4..."
      ],
      "metadata": {
        "colab": {
          "base_uri": "https://localhost:8080/"
        },
        "id": "RjxnUrXitbpm",
        "outputId": "406a81fd-3f84-4310-b8f3-6dd2ab4e9483"
      },
      "execution_count": 22,
      "outputs": [
        {
          "output_type": "execute_result",
          "data": {
            "text/plain": [
              "{1: 6, 2: 1, 3: 4, 4: 4, 5: 8, 6: 4, 7: 6, 8: 3, 9: 5, 10: 8}"
            ]
          },
          "metadata": {},
          "execution_count": 22
        }
      ]
    },
    {
      "cell_type": "code",
      "source": [
        "# training for random client\n",
        "loc_x=rnd.rand(len(V))* 200\n",
        "loc_y= rnd.rand(len(V))*100"
      ],
      "metadata": {
        "id": "R-Ucbqc-tbsh"
      },
      "execution_count": 25,
      "outputs": []
    },
    {
      "cell_type": "code",
      "source": [
        "A=[(i,j) for i in V for j in V if i!=j]\n",
        "c={(i,j): np.hypot(loc_x[i]-loc_x[j],loc_y[i]-loc_y[j]) for i,j in A}  # euclidian distance: hypot"
      ],
      "metadata": {
        "id": "M4HNA9ILtbvF"
      },
      "execution_count": 26,
      "outputs": []
    },
    {
      "cell_type": "code",
      "source": [
        "A #defined in a network that consists of nodes and connection between nodes. this basically represents a set of all possible arcs (connections) between node i and node j"
      ],
      "metadata": {
        "colab": {
          "base_uri": "https://localhost:8080/"
        },
        "id": "D9NfEvoZzG3i",
        "outputId": "8f00022f-c191-4060-dfdb-8bd5e1416546"
      },
      "execution_count": 27,
      "outputs": [
        {
          "output_type": "execute_result",
          "data": {
            "text/plain": [
              "[(0, 1),\n",
              " (0, 2),\n",
              " (0, 3),\n",
              " (0, 4),\n",
              " (0, 5),\n",
              " (0, 6),\n",
              " (0, 7),\n",
              " (0, 8),\n",
              " (0, 9),\n",
              " (0, 10),\n",
              " (1, 0),\n",
              " (1, 2),\n",
              " (1, 3),\n",
              " (1, 4),\n",
              " (1, 5),\n",
              " (1, 6),\n",
              " (1, 7),\n",
              " (1, 8),\n",
              " (1, 9),\n",
              " (1, 10),\n",
              " (2, 0),\n",
              " (2, 1),\n",
              " (2, 3),\n",
              " (2, 4),\n",
              " (2, 5),\n",
              " (2, 6),\n",
              " (2, 7),\n",
              " (2, 8),\n",
              " (2, 9),\n",
              " (2, 10),\n",
              " (3, 0),\n",
              " (3, 1),\n",
              " (3, 2),\n",
              " (3, 4),\n",
              " (3, 5),\n",
              " (3, 6),\n",
              " (3, 7),\n",
              " (3, 8),\n",
              " (3, 9),\n",
              " (3, 10),\n",
              " (4, 0),\n",
              " (4, 1),\n",
              " (4, 2),\n",
              " (4, 3),\n",
              " (4, 5),\n",
              " (4, 6),\n",
              " (4, 7),\n",
              " (4, 8),\n",
              " (4, 9),\n",
              " (4, 10),\n",
              " (5, 0),\n",
              " (5, 1),\n",
              " (5, 2),\n",
              " (5, 3),\n",
              " (5, 4),\n",
              " (5, 6),\n",
              " (5, 7),\n",
              " (5, 8),\n",
              " (5, 9),\n",
              " (5, 10),\n",
              " (6, 0),\n",
              " (6, 1),\n",
              " (6, 2),\n",
              " (6, 3),\n",
              " (6, 4),\n",
              " (6, 5),\n",
              " (6, 7),\n",
              " (6, 8),\n",
              " (6, 9),\n",
              " (6, 10),\n",
              " (7, 0),\n",
              " (7, 1),\n",
              " (7, 2),\n",
              " (7, 3),\n",
              " (7, 4),\n",
              " (7, 5),\n",
              " (7, 6),\n",
              " (7, 8),\n",
              " (7, 9),\n",
              " (7, 10),\n",
              " (8, 0),\n",
              " (8, 1),\n",
              " (8, 2),\n",
              " (8, 3),\n",
              " (8, 4),\n",
              " (8, 5),\n",
              " (8, 6),\n",
              " (8, 7),\n",
              " (8, 9),\n",
              " (8, 10),\n",
              " (9, 0),\n",
              " (9, 1),\n",
              " (9, 2),\n",
              " (9, 3),\n",
              " (9, 4),\n",
              " (9, 5),\n",
              " (9, 6),\n",
              " (9, 7),\n",
              " (9, 8),\n",
              " (9, 10),\n",
              " (10, 0),\n",
              " (10, 1),\n",
              " (10, 2),\n",
              " (10, 3),\n",
              " (10, 4),\n",
              " (10, 5),\n",
              " (10, 6),\n",
              " (10, 7),\n",
              " (10, 8),\n",
              " (10, 9)]"
            ]
          },
          "metadata": {},
          "execution_count": 27
        }
      ]
    },
    {
      "cell_type": "code",
      "source": [
        "c  # it is cost of overall arc(i,j) belong to A"
      ],
      "metadata": {
        "colab": {
          "base_uri": "https://localhost:8080/"
        },
        "id": "mfDusP_CzLE8",
        "outputId": "0b025003-fa50-4ee9-e2fd-04f82780391e"
      },
      "execution_count": 28,
      "outputs": [
        {
          "output_type": "execute_result",
          "data": {
            "text/plain": [
              "{(0, 1): 33.504686960860795,\n",
              " (0, 2): 41.11138629503385,\n",
              " (0, 3): 45.79263333713419,\n",
              " (0, 4): 50.77555203012287,\n",
              " (0, 5): 54.44725732628541,\n",
              " (0, 6): 37.647574061136034,\n",
              " (0, 7): 72.98056771655875,\n",
              " (0, 8): 89.70844922828567,\n",
              " (0, 9): 55.82497026893104,\n",
              " (0, 10): 55.59374885917202,\n",
              " (1, 0): 33.504686960860795,\n",
              " (1, 2): 42.23764921128614,\n",
              " (1, 3): 60.2523224726414,\n",
              " (1, 4): 75.58102299795816,\n",
              " (1, 5): 56.50848025794605,\n",
              " (1, 6): 61.502187540784085,\n",
              " (1, 7): 41.09431251296798,\n",
              " (1, 8): 58.14985245467972,\n",
              " (1, 9): 78.02546809638228,\n",
              " (1, 10): 27.720843893358516,\n",
              " (2, 0): 41.11138629503385,\n",
              " (2, 1): 42.23764921128614,\n",
              " (2, 3): 86.23654979493304,\n",
              " (2, 4): 91.17823243082672,\n",
              " (2, 5): 90.94783124977752,\n",
              " (2, 6): 34.318704181986625,\n",
              " (2, 7): 59.652726097030026,\n",
              " (2, 8): 72.39358384965435,\n",
              " (2, 9): 44.183663197138415,\n",
              " (2, 10): 39.85130178750766,\n",
              " (3, 0): 45.79263333713419,\n",
              " (3, 1): 60.2523224726414,\n",
              " (3, 2): 86.23654979493304,\n",
              " (3, 4): 24.29902805451533,\n",
              " (3, 5): 20.831530577252774,\n",
              " (3, 6): 79.12392604996269,\n",
              " (3, 7): 99.06310397166881,\n",
              " (3, 8): 115.75267299756139,\n",
              " (3, 9): 96.33064133573107,\n",
              " (3, 10): 87.97079000781358,\n",
              " (4, 0): 50.77555203012287,\n",
              " (4, 1): 75.58102299795816,\n",
              " (4, 2): 91.17823243082672,\n",
              " (4, 3): 24.29902805451533,\n",
              " (4, 5): 44.94867285094606,\n",
              " (4, 6): 74.60111275003985,\n",
              " (4, 7): 116.3639781233139,\n",
              " (4, 8): 133.39190181642465,\n",
              " (4, 9): 89.51095713217165,\n",
              " (4, 10): 102.415256486599,\n",
              " (5, 0): 54.44725732628541,\n",
              " (5, 1): 56.50848025794605,\n",
              " (5, 2): 90.94783124977752,\n",
              " (5, 3): 20.831530577252774,\n",
              " (5, 4): 44.94867285094606,\n",
              " (5, 6): 91.29968095475525,\n",
              " (5, 7): 90.34911496065831,\n",
              " (5, 8): 106.11583633364307,\n",
              " (5, 9): 109.27286539087449,\n",
              " (5, 10): 83.17538206595394,\n",
              " (6, 0): 37.647574061136034,\n",
              " (6, 1): 61.502187540784085,\n",
              " (6, 2): 34.318704181986625,\n",
              " (6, 3): 79.12392604996269,\n",
              " (6, 4): 74.60111275003985,\n",
              " (6, 5): 91.29968095475525,\n",
              " (6, 7): 91.00028320168003,\n",
              " (6, 8): 105.28153296408613,\n",
              " (6, 9): 18.177619500947053,\n",
              " (6, 10): 70.90656238229411,\n",
              " (7, 0): 72.98056771655875,\n",
              " (7, 1): 41.09431251296798,\n",
              " (7, 2): 59.652726097030026,\n",
              " (7, 3): 99.06310397166881,\n",
              " (7, 4): 116.3639781233139,\n",
              " (7, 5): 90.34911496065831,\n",
              " (7, 6): 91.00028320168003,\n",
              " (7, 8): 17.061642424566607,\n",
              " (7, 9): 103.62376328676926,\n",
              " (7, 10): 20.119506833347312,\n",
              " (8, 0): 89.70844922828567,\n",
              " (8, 1): 58.14985245467972,\n",
              " (8, 2): 72.39358384965435,\n",
              " (8, 3): 115.75267299756139,\n",
              " (8, 4): 133.39190181642465,\n",
              " (8, 5): 106.11583633364307,\n",
              " (8, 6): 105.28153296408613,\n",
              " (8, 7): 17.061642424566607,\n",
              " (8, 9): 116.55136475120295,\n",
              " (8, 10): 35.109906284632594,\n",
              " (9, 0): 55.82497026893104,\n",
              " (9, 1): 78.02546809638228,\n",
              " (9, 2): 44.183663197138415,\n",
              " (9, 3): 96.33064133573107,\n",
              " (9, 4): 89.51095713217165,\n",
              " (9, 5): 109.27286539087449,\n",
              " (9, 6): 18.177619500947053,\n",
              " (9, 7): 103.62376328676926,\n",
              " (9, 8): 116.55136475120295,\n",
              " (9, 10): 83.6054747198245,\n",
              " (10, 0): 55.59374885917202,\n",
              " (10, 1): 27.720843893358516,\n",
              " (10, 2): 39.85130178750766,\n",
              " (10, 3): 87.97079000781358,\n",
              " (10, 4): 102.415256486599,\n",
              " (10, 5): 83.17538206595394,\n",
              " (10, 6): 70.90656238229411,\n",
              " (10, 7): 20.119506833347312,\n",
              " (10, 8): 35.109906284632594,\n",
              " (10, 9): 83.6054747198245}"
            ]
          },
          "metadata": {},
          "execution_count": 28
        }
      ]
    },
    {
      "cell_type": "code",
      "source": [
        "import matplotlib.pyplot as plt"
      ],
      "metadata": {
        "id": "qrXHJ--bxA_i"
      },
      "execution_count": 29,
      "outputs": []
    },
    {
      "cell_type": "code",
      "source": [
        "# plt.plot(loc_x,loc_y[0],c='r),marker='s') # this is the depot\n",
        "#plt.scatter(loc_x[1:],loc_y[1:],c='green') # number of client and their distance from the depot\n",
        "f=plt.figure()\n",
        "f.set_figwidth(10)\n",
        "f.set_figheight(6)\n",
        "plt.scatter(loc_x[1:],loc_y[1:], c='blue',marker='*')\n",
        "for i in N:\n",
        "  plt.annotate('$q_%d=%d$' %(i,q[i]), (loc_x[i]+2,loc_y[i]))# represents demand of each clent in the graph below\n",
        "plt.plot(loc_x[0],loc_y[0], c='magenta', marker='s',markersize=10)\n",
        "plt.text(loc_x[0],loc_y[0],\"DEPOT\")\n",
        "plt.axis('equal')"
      ],
      "metadata": {
        "id": "bLA_josXxBMk",
        "colab": {
          "base_uri": "https://localhost:8080/",
          "height": 559
        },
        "outputId": "6e1096a6-2c28-43e3-fa83-9fa6bb6fd0c3"
      },
      "execution_count": 32,
      "outputs": [
        {
          "output_type": "execute_result",
          "data": {
            "text/plain": [
              "(70.88609134840303, 198.53476451695838, -2.7701599799296193, 102.6538339472386)"
            ]
          },
          "metadata": {},
          "execution_count": 32
        },
        {
          "output_type": "display_data",
          "data": {
            "text/plain": [
              "<Figure size 1000x600 with 1 Axes>"
            ],
            "image/png": "[encoded data removed]"
          },
          "metadata": {}
        }
      ]
    },
    {
      "cell_type": "code",
      "source": [
        "pip install cplex"
      ],
      "metadata": {
        "id": "FwvZy7H_xB0t",
        "colab": {
          "base_uri": "https://localhost:8080/"
        },
        "outputId": "72959533-7991-4e27-812d-805353c043dd"
      },
      "execution_count": 33,
      "outputs": [
        {
          "output_type": "stream",
          "name": "stdout",
          "text": [
            "Collecting cplex\n",
            "  Downloading cplex-22.1.1.0-cp310-cp310-manylinux1_x86_64.whl (44.2 MB)\n",
            "\u001b[2K     \u001b[90m━━━━━━━━━━━━━━━━━━━━━━━━━━━━━━━━━━━━━━━━\u001b[0m \u001b[32m44.2/44.2 MB\u001b[0m \u001b[31m18.5 MB/s\u001b[0m eta \u001b[36m0:00:00\u001b[0m\n",
            "\u001b[?25hInstalling collected packages: cplex\n",
            "Successfully installed cplex-22.1.1.0\n"
          ]
        }
      ]
    },
    {
      "cell_type": "markdown",
      "source": [
        "- CPLEX is a powerful optimization solver that offers advanced capabilities for solving complex linear programming (LP), mixed-integer programming (MIP), quadratic programming (QP), and other optimization problems. It's a standalone software package that focuses on solving optimization problems efficiently.\n",
        "\n",
        "- CPLEX provides a set of solvers for various optimization problems. It offers a wide range of algorithms and techniques for efficiently solving complex optimization problems. It's particularly known for its performance on large-scale linear and mixed-integer programming problems.\n",
        "\n",
        "- CPLEX has its own modeling language (mathematical programming language) for defining optimization problems. Users need to formulate problems using this language.\n",
        "\n",
        "- CPLEX is suitable for users who are experienced with optimization and want to utilize the solver's advanced capabilities to solve complex problems. It's often used by optimization experts and researchers."
      ],
      "metadata": {
        "id": "1RK8GPUOa4iv"
      }
    },
    {
      "cell_type": "code",
      "source": [
        "pip install docplex"
      ],
      "metadata": {
        "id": "Hzh1DUguxB3Z",
        "colab": {
          "base_uri": "https://localhost:8080/"
        },
        "outputId": "0f416c61-1050-454d-add7-c729b378d7db"
      },
      "execution_count": 34,
      "outputs": [
        {
          "output_type": "stream",
          "name": "stdout",
          "text": [
            "Collecting docplex\n",
            "  Downloading docplex-2.25.236.tar.gz (633 kB)\n",
            "\u001b[2K     \u001b[90m━━━━━━━━━━━━━━━━━━━━━━━━━━━━━━━━━━━━━━━\u001b[0m \u001b[32m633.5/633.5 kB\u001b[0m \u001b[31m5.7 MB/s\u001b[0m eta \u001b[36m0:00:00\u001b[0m\n",
            "\u001b[?25h  Preparing metadata (setup.py) ... \u001b[?25l\u001b[?25hdone\n",
            "Requirement already satisfied: six in /usr/local/lib/python3.10/dist-packages (from docplex) (1.16.0)\n",
            "Building wheels for collected packages: docplex\n",
            "  Building wheel for docplex (setup.py) ... \u001b[?25l\u001b[?25hdone\n",
            "  Created wheel for docplex: filename=docplex-2.25.236-py3-none-any.whl size=671350 sha256=9c3212620b7c2fef2e54825d52344c5a55d4bc27f095c2aa45e4893e9e0cfd73\n",
            "  Stored in directory: /root/.cache/pip/wheels/3b/e5/00/0bf0173d67188fe73a13e3a61412b3f975f60205e3fab93a69\n",
            "Successfully built docplex\n",
            "Installing collected packages: docplex\n",
            "Successfully installed docplex-2.25.236\n"
          ]
        }
      ]
    },
    {
      "cell_type": "markdown",
      "source": [
        "- DOcplex is a Python library that serves as an interface to IBM's optimization engines, including CPLEX. It's designed to make it easier for users to formulate and solve optimization problems using a higher-level programming language.\n",
        "\n",
        "- DOcplex is focused on problem formulation and modeling. It provides Python classes and methods to define decision variables, constraints, and objectives in a natural and intuitive way. It also facilitates the integration of optimization into Python workflows.\n",
        "\n",
        "- DOcplex offers a high-level Pythonic interface for formulating optimization problems. Users can use Python syntax to create models, which can make the modeling process more intuitive for those familiar with Python.\n",
        "\n",
        "- DOcplex is suitable for a broader audience, including those who are not optimization experts. It's designed to simplify the process of problem formulation and make optimization accessible to Python users.\n",
        "\n",
        "- ***CPLEX is a standalone optimization solver known for its powerful algorithms and efficiency, while DOcplex is a Python library that acts as an interface to CPLEX, making optimization more accessible to Python users by providing a simpler and more intuitive way to formulate and solve optimization problems.***"
      ],
      "metadata": {
        "id": "7m7AspInbyLv"
      }
    },
    {
      "cell_type": "code",
      "source": [
        "# modelling the model\n",
        "from docplex.mp.model import Model"
      ],
      "metadata": {
        "id": "GNhIdWYQxB5-"
      },
      "execution_count": 35,
      "outputs": []
    },
    {
      "cell_type": "code",
      "source": [
        "mdl=Model('CVRP') # creating a model named 'CVRP' with default"
      ],
      "metadata": {
        "id": "JY9kgnU5xB8n"
      },
      "execution_count": 37,
      "outputs": []
    },
    {
      "cell_type": "code",
      "source": [
        "x=mdl.binary_var_dict(A,name='x') # creating a dictionary of binary decision variables,indexed by key objective\n",
        "# This line creates a dictionary of binary decision variables indexed by the keys in A. The variable x is a dictionary where the keys correspond to pairs (i, j)\n",
        "#representing nodes in the problem (likely corresponding to nodes in a vehicle routing problem). These variables are binary,\n",
        "#indicating whether a connection exists between nodes i and j.\n",
        "\n",
        "\n",
        "u=mdl.continuous_var_dict(N,ub=Q, name='u') # create a dictionary of continous decison variables, indexed by key objective\n",
        "# This line creates a dictionary of continuous decision variables indexed by the keys in N. The variable u represents the\n",
        "#cumulative demand carried along the routes. The upper bound constraint ub=Q indicates that the cumulative demand at any node cannot exceed the capacity Q."
      ],
      "metadata": {
        "id": "6uOadrK1xCAT"
      },
      "execution_count": 39,
      "outputs": []
    },
    {
      "cell_type": "code",
      "source": [
        "mdl.minimize(mdl.sum(c[i, j]*x[i, j] for i, j in A))\n",
        "mdl.add_constraints(mdl.sum(x[i, j] for j in V if j != i) == 1 for i in N)\n",
        "mdl.add_constraints(mdl.sum(x[i, j] for i in V if i != j) == 1 for j in N)\n",
        "mdl.add_indicator_constraints(mdl.indicator_constraint(x[i, j], u[i]+q[j] == u[j]) for i, j in A if i != 0 and j != 0)\n",
        "mdl.add_constraints(u[i] >= q[i] for i in N)\n",
        "mdl.parameters.timelimit = 15\n",
        "solution = mdl.solve(log_output=True)"
      ],
      "metadata": {
        "colab": {
          "base_uri": "https://localhost:8080/"
        },
        "id": "wtCTzk0H2kZs",
        "outputId": "d0277706-59e7-42c5-8714-9ec457fcd381"
      },
      "execution_count": 40,
      "outputs": [
        {
          "output_type": "stream",
          "name": "stdout",
          "text": [
            "Version identifier: 22.1.1.0 | 2023-02-11 | 22d6266e5\n",
            "CPXPARAM_Read_DataCheck                          1\n",
            "CPXPARAM_TimeLimit                               15\n",
            "Found incumbent of value 1074.773652 after 0.00 sec. (0.01 ticks)\n",
            "Tried aggregator 2 times.\n",
            "MIP Presolve eliminated 10 rows and 0 columns.\n",
            "MIP Presolve modified 45 coefficients.\n",
            "Aggregator did 45 substitutions.\n",
            "Reduced MIP has 65 rows, 165 columns, and 335 nonzeros.\n",
            "Reduced MIP has 110 binaries, 0 generals, 0 SOSs, and 90 indicators.\n",
            "Presolve time = 0.04 sec. (0.35 ticks)\n",
            "Probing time = 0.00 sec. (0.32 ticks)\n",
            "Tried aggregator 1 time.\n",
            "Detecting symmetries...\n",
            "Reduced MIP has 65 rows, 165 columns, and 335 nonzeros.\n",
            "Reduced MIP has 110 binaries, 0 generals, 0 SOSs, and 90 indicators.\n",
            "Presolve time = 0.02 sec. (0.23 ticks)\n",
            "Probing time = 0.00 sec. (0.31 ticks)\n",
            "Clique table members: 65.\n",
            "MIP emphasis: balance optimality and feasibility.\n",
            "MIP search method: dynamic search.\n",
            "Parallel mode: deterministic, using up to 2 threads.\n",
            "Root relaxation solution time = 0.00 sec. (0.12 ticks)\n",
            "\n",
            "        Nodes                                         Cuts/\n",
            "   Node  Left     Objective  IInf  Best Integer    Best Bound    ItCnt     Gap\n",
            "\n",
            "*     0+    0                         1074.7737        0.0000           100.00%\n",
            "      0     0      270.3676    10     1074.7737      270.3676        8   74.84%\n",
            "      0     0      307.7459     7     1074.7737      Cuts: 24       27   71.37%\n",
            "      0     0      307.7459    11     1074.7737      Cuts: 20       35   71.37%\n",
            "      0     0      307.7459    20     1074.7737      Cuts: 14       38   71.37%\n",
            "*     0+    0                          661.0948      307.7459            53.45%\n",
            "*     0+    0                          550.5434      307.7459            44.10%\n",
            "*     0+    0                          526.2381      307.7459            41.52%\n",
            "Detecting symmetries...\n",
            "      0     2      307.7459    10      526.2381      307.7459       38   41.52%\n",
            "Elapsed time = 0.24 sec. (5.29 ticks, tree = 0.02 MB, solutions = 4)\n",
            "*    42    17      integral     0      525.4776      307.7459       96   41.44%\n",
            "*   199    66      integral     0      508.5879      319.3872      271   37.20%\n",
            "*   314   148      integral     0      506.8504      330.2900      572   34.83%\n",
            "\n",
            "Clique cuts applied:  2\n",
            "Cover cuts applied:  6\n",
            "Implied bound cuts applied:  113\n",
            "\n",
            "Root node processing (before b&c):\n",
            "  Real time             =    0.25 sec. (5.25 ticks)\n",
            "Parallel b&c, 2 threads:\n",
            "  Real time             =    0.48 sec. (147.31 ticks)\n",
            "  Sync time (average)   =    0.03 sec.\n",
            "  Wait time (average)   =    0.00 sec.\n",
            "                          ------------\n",
            "Total (root+branch&cut) =    0.73 sec. (152.56 ticks)\n"
          ]
        }
      ]
    },
    {
      "cell_type": "markdown",
      "source": [
        "WHAT DOES THE ABOVE OUPUT MEANS?\n",
        "The output provides insights into how the solver progresses through different stages of solving, including preprocessing, probing, branching, and relaxation. The objective is to minimize the value while considering various constraints. The solver iteratively refines its solution until it either finds an optimal solution or reaches the time limit. The output also indicates the final integral solution found, its objective value, and additional information about the solving process.\n",
        "\n",
        "- \"Objective\": The current objective value of the solution.\n",
        "\n",
        "- \"ItCnt\": The number of iterations\n",
        "\n",
        "- \"GAP\"- The optimality gap, indicating the difference between the current solution's objective value and the best-known objective value.\n",
        "\n"
      ],
      "metadata": {
        "id": "O-wtIV9Ye3I1"
      }
    },
    {
      "cell_type": "code",
      "source": [
        "print(solution)"
      ],
      "metadata": {
        "colab": {
          "base_uri": "https://localhost:8080/"
        },
        "id": "2-mLk8Sz2kuO",
        "outputId": "42693319-af4d-44ba-9047-e03e49c10d7e"
      },
      "execution_count": 41,
      "outputs": [
        {
          "output_type": "stream",
          "name": "stdout",
          "text": [
            "solution for: CVRP\n",
            "objective: 506.85\n",
            "status: OPTIMAL_SOLUTION(2)\n",
            "x_0_5=1\n",
            "x_0_6=1\n",
            "x_0_10=1\n",
            "x_1_0=1\n",
            "x_2_1=1\n",
            "x_3_4=1\n",
            "x_4_0=1\n",
            "x_5_3=1\n",
            "x_6_9=1\n",
            "x_7_0=1\n",
            "x_8_7=1\n",
            "x_9_2=1\n",
            "x_10_8=1\n",
            "u_1=20.000\n",
            "u_2=14.000\n",
            "u_3=16.000\n",
            "u_4=20.000\n",
            "u_5=12.000\n",
            "u_6=8.000\n",
            "u_7=20.000\n",
            "u_8=14.000\n",
            "u_9=13.000\n",
            "u_10=11.000\n",
            "\n"
          ]
        }
      ]
    },
    {
      "cell_type": "markdown",
      "source": [
        "WHAT DOES THE ABOVE OUTPUT MEANS?\n",
        "- Objective: 506.85:\n",
        "\n",
        "This is the objective value of the solution, which represents the total cost or value that has been minimized in the optimization process. In this case, the optimal value of the objective function is 506.85.\n",
        "\n",
        "- Status: OPTIMAL_SOLUTION(2):\n",
        "\n",
        "Indicates the status of the solution. \"OPTIMAL_SOLUTION\" means that an optimal solution was found, and the value \"(2)\" is the numerical code for this status.\n",
        "\n",
        "- Variable Assignments:\n",
        "\n",
        "The lines following \"x_0_5=1,\" \"x_0_6=1,\" etc., list the assignment of binary decision variables in the solution. The format \"x_i_j=value\" indicates that the variable x[i, j] (which represents whether there is a connection between nodes i and j) is assigned the value value. A value of 1 indicates that the connection is chosen in the optimal solution.\n",
        "\n",
        "- Cumulative Demand Variables:\n",
        "\n",
        "The lines following \"u_1=20.000,\" \"u_2=14.000,\" etc., list the assignment of continuous decision variables u[i] representing the cumulative demand at each node i."
      ],
      "metadata": {
        "id": "Uvcobd_pg_NI"
      }
    },
    {
      "cell_type": "code",
      "source": [
        "solution.solve_status"
      ],
      "metadata": {
        "colab": {
          "base_uri": "https://localhost:8080/"
        },
        "id": "jCOIIdgd2k3j",
        "outputId": "62fd2e0e-9916-4b6b-a1b0-98517c030169"
      },
      "execution_count": 42,
      "outputs": [
        {
          "output_type": "execute_result",
          "data": {
            "text/plain": [
              "<JobSolveStatus.OPTIMAL_SOLUTION: 2>"
            ]
          },
          "metadata": {},
          "execution_count": 42
        }
      ]
    },
    {
      "cell_type": "code",
      "source": [
        "active_arcs = [a for a in A if x[a].solution_value > 0.9]\n",
        "# 'A': represents a set of all possible arcs (connections) from node i to nod j\n",
        "\n",
        "# x[a].solution_value: This refers to the solution value of the binary decision variable\n",
        "# x[a] associated with the arc a. In optimization problems, after solving, variables\n",
        "# can have fractional solution values (between 0 and 1) that represent the strength of their presence in the solution.\n",
        "\n",
        "# 'active_arcs': This is a new list has been created. It will store the arcs for which the condition is satisfied.\n",
        "\n",
        "# '[a for a in A if x[a].solution_value > 0.9]': This list comprehension iterates over each arc a in the set A.\n",
        "#For each arc, it checks whether the solution value of the associated binary variable x[a] is greater than 0.9.\n",
        "#If this condition is met, the arc a is included in the active_arcs list.\n",
        "# These arcs are considered to be \"active\" in the current solution because their corresponding binary variables have high\n",
        "#values, indicating that these connections are strongly selected in the optimal solution."
      ],
      "metadata": {
        "id": "AUvO2ie12lB9"
      },
      "execution_count": 43,
      "outputs": []
    },
    {
      "cell_type": "code",
      "source": [
        "plt.scatter(loc_x[1:], loc_y[1:], c='b')\n",
        "# here scatter function from the matplotlib.pyplot library is used to create sctter plot.\n",
        "# It plots the points defined by the loc_x and loc_y arrays.\n",
        "# loc_x represents the x-coordinates of the points, and loc_y represents the y-coordinates.\n",
        "# The [1:] indexing is used to exclude the first point, which is usually a depot or starting point\n",
        "\n",
        "for i in N:\n",
        "    plt.annotate('$q_%d=%d$' % (i, q[i]), (loc_x[i]+2, loc_y[i]))\n",
        "# The above for loop iterates over the set of nodes N and uses the annotate function to add text annotations to the plot.\n",
        "# For each node index i, it creates an annotation showing the demand q[i] of that node at a position (loc_x[i]+2, loc_y[i]).\n",
        "# The format %d is used to insert the node index and demand value into the annotation text.\n",
        "\n",
        "for i, j in active_arcs:\n",
        "# This loop iterates over the pairs of nodes in the active_arcs list. For each arc (i, j) in active_arcs,\n",
        "# it uses the plot function to draw a line segment connecting the points (loc_x[i], loc_y[i]) and (loc_x[j], loc_y[j]).\n",
        "    plt.plot([loc_x[i], loc_x[j]], [loc_y[i], loc_y[j]], c='g', alpha=0.3)\n",
        "plt.plot(loc_x[0], loc_y[0], c='r', marker='s')\n",
        "plt.axis('equal')"
      ],
      "metadata": {
        "colab": {
          "base_uri": "https://localhost:8080/",
          "height": 447
        },
        "id": "oYtc7YvQ3dMT",
        "outputId": "aa0bb440-de0e-444f-b57b-fc37a4c6f42a"
      },
      "execution_count": 44,
      "outputs": [
        {
          "output_type": "execute_result",
          "data": {
            "text/plain": [
              "(70.88609134840303, 198.53476451695838, -2.7701599799296193, 102.6538339472386)"
            ]
          },
          "metadata": {},
          "execution_count": 44
        },
        {
          "output_type": "display_data",
          "data": {
            "text/plain": [
              "<Figure size 640x480 with 1 Axes>"
            ],
            "image/png": "[encoded data removed]"
          },
          "metadata": {}
        }
      ]
    },
    {
      "cell_type": "markdown",
      "source": [],
      "metadata": {
        "id": "TWhu2UywkJ-U"
      }
    },
    {
      "cell_type": "markdown",
      "source": [],
      "metadata": {
        "id": "Y_s2D50dpSip"
      }
    }
  ]
}